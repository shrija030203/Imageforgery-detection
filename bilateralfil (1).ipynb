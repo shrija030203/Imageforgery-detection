{
 "cells": [
  {
   "cell_type": "code",
   "execution_count": 11,
   "id": "2490fadd-7a95-4b70-88e3-86d7631e1e95",
   "metadata": {},
   "outputs": [
    {
     "name": "stdout",
     "output_type": "stream",
     "text": [
      "Collecting opencv-contrib-python\n",
      "  Using cached opencv_contrib_python-4.9.0.80-cp37-abi3-win_amd64.whl.metadata (20 kB)\n",
      "Requirement already satisfied: numpy>=1.21.2 in c:\\users\\lenovo\\appdata\\local\\programs\\python\\python311\\lib\\site-packages (from opencv-contrib-python) (1.25.2)\n",
      "Using cached opencv_contrib_python-4.9.0.80-cp37-abi3-win_amd64.whl (45.3 MB)\n",
      "Installing collected packages: opencv-contrib-python\n",
      "Successfully installed opencv-contrib-python-4.9.0.80\n"
     ]
    }
   ],
   "source": [
    "!pip install opencv-contrib-python --user\n"
   ]
  },
  {
   "cell_type": "code",
   "execution_count": 17,
   "id": "99185cd6-1996-4a50-83f0-c454b0dd6f38",
   "metadata": {},
   "outputs": [],
   "source": [
    "import os\n",
    "import cv2\n",
    "import numpy as np\n",
    "from skimage.morphology import skeletonize\n",
    "\n",
    "def apply_pipeline(input_folder, output_folder):\n",
    "    # Create output folder if it doesn't exist\n",
    "    os.makedirs(output_folder, exist_ok=True)\n",
    "\n",
    "    # Define functions for each step of the pipeline\n",
    "    def bilateral_filtering(img):\n",
    "        return cv2.bilateralFilter(img, 9, 75, 75)\n",
    "\n",
    "    def qgmf(img):\n",
    "        qgmf_filter = np.array([[1, 4, 6, 4, 1],\n",
    "                                [4, 16, 24, 16, 4],\n",
    "                                [6, 24, 36, 24, 6],\n",
    "                                [4, 16, 24, 16, 4],\n",
    "                                [1, 4, 6, 4, 1]]) / 256.0\n",
    "        return cv2.filter2D(img, -1, qgmf_filter)\n",
    "\n",
    "    def edge_detection(img):\n",
    "        return cv2.Canny(img, 100, 200)\n",
    "\n",
    "    def edge_thinning(img):\n",
    "        return skeletonize(img)\n",
    "\n",
    "    def edge_linking(img):\n",
    "        # Convert binary image to uint8\n",
    "        img_uint8 = img.astype(np.uint8)\n",
    "\n",
    "        # Apply Hough line detection\n",
    "        lines = cv2.HoughLinesP(img_uint8, rho=1, theta=np.pi/180, threshold=50, minLineLength=50, maxLineGap=10)\n",
    "\n",
    "        # Create a blank image for drawing lines\n",
    "        linked_img = np.zeros_like(img_uint8)\n",
    "\n",
    "        # Draw the detected lines\n",
    "        if lines is not None:\n",
    "            for line in lines:\n",
    "                x1, y1, x2, y2 = line[0]\n",
    "                cv2.line(linked_img, (x1, y1), (x2, y2), (255, 255, 255), 1)  # Draw white line\n",
    "\n",
    "        return linked_img\n",
    "\n",
    "    # Process each image in the input folder\n",
    "    for filename in os.listdir(input_folder):\n",
    "        if filename.endswith(('.jpg', '.jpeg', '.png', '.bmp')):\n",
    "            img_path = os.path.join(input_folder, filename)\n",
    "            img = cv2.imread(img_path, cv2.IMREAD_GRAYSCALE)\n",
    "\n",
    "            # Apply filters\n",
    "            img_filtered = bilateral_filtering(img)\n",
    "            img_filtered = qgmf(img_filtered)\n",
    "            img_edges = edge_detection(img_filtered)\n",
    "            img_thinned = edge_thinning(img_edges)\n",
    "            img_linked = edge_linking(img_thinned)\n",
    "\n",
    "            # Write output images\n",
    "            cv2.imwrite(os.path.join(output_folder, f'{filename}_filtered.jpg'), img_filtered)\n",
    "            cv2.imwrite(os.path.join(output_folder, f'{filename}_edges.jpg'), img_edges)\n",
    "            cv2.imwrite(os.path.join(output_folder, f'{filename}_thinned.jpg'), img_thinned.astype(np.uint8) * 255)  # Convert to uint8 and scale to 0-255\n",
    "            cv2.imwrite(os.path.join(output_folder, f'{filename}_linked.jpg'), img_linked)\n",
    "\n",
    "# Example usage:\n",
    "input_folder =  r\"C:\\Users\\LENOVO\\Downloads\\archive (5)\\CASIA1\\Sp\"\n",
    "output_folder = r\"C:\\Users\\LENOVO\\Downloads\\bicasia\"\n",
    "apply_pipeline(input_folder, output_folder)\n",
    "\n"
   ]
  },
  {
   "cell_type": "code",
   "execution_count": null,
   "id": "cc89a4e0-a525-40dc-8d36-aeee3cf14a66",
   "metadata": {},
   "outputs": [],
   "source": []
  }
 ],
 "metadata": {
  "kernelspec": {
   "display_name": "Python 3 (ipykernel)",
   "language": "python",
   "name": "python3"
  },
  "language_info": {
   "codemirror_mode": {
    "name": "ipython",
    "version": 3
   },
   "file_extension": ".py",
   "mimetype": "text/x-python",
   "name": "python",
   "nbconvert_exporter": "python",
   "pygments_lexer": "ipython3",
   "version": "3.11.4"
  }
 },
 "nbformat": 4,
 "nbformat_minor": 5
}
